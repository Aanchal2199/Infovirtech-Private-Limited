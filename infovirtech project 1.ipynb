{
 "cells": [
  {
   "cell_type": "markdown",
   "id": "80ef0866",
   "metadata": {},
   "source": [
    "# How to create an empty and full Numpy array?"
   ]
  },
  {
   "cell_type": "markdown",
   "id": "1bd2cd9b",
   "metadata": {},
   "source": [
    "Empty"
   ]
  },
  {
   "cell_type": "code",
   "execution_count": 6,
   "id": "0e90fc7e",
   "metadata": {},
   "outputs": [
    {
     "name": "stdout",
     "output_type": "stream",
     "text": [
      "[]\n"
     ]
    }
   ],
   "source": [
    "import numpy as np\n",
    "a=np.empty((0,0))\n",
    "print(a)"
   ]
  },
  {
   "cell_type": "markdown",
   "id": "06cadc22",
   "metadata": {},
   "source": [
    "Full"
   ]
  },
  {
   "cell_type": "code",
   "execution_count": 13,
   "id": "e3b3f996",
   "metadata": {},
   "outputs": [
    {
     "name": "stdout",
     "output_type": "stream",
     "text": [
      "[[67 67 67 67]\n",
      " [67 67 67 67]\n",
      " [67 67 67 67]\n",
      " [67 67 67 67]\n",
      " [67 67 67 67]]\n"
     ]
    }
   ],
   "source": [
    "a=np.full([5,4],67,dtype=int)\n",
    "print(a)"
   ]
  },
  {
   "cell_type": "markdown",
   "id": "568d403d",
   "metadata": {},
   "source": [
    "# Create a numpy_array_filled with all zeros."
   ]
  },
  {
   "cell_type": "code",
   "execution_count": 2,
   "id": "1b9578e4",
   "metadata": {},
   "outputs": [
    {
     "data": {
      "text/plain": [
       "array([[0, 0, 0, 0, 0],\n",
       "       [0, 0, 0, 0, 0],\n",
       "       [0, 0, 0, 0, 0],\n",
       "       [0, 0, 0, 0, 0],\n",
       "       [0, 0, 0, 0, 0]], dtype=uint8)"
      ]
     },
     "execution_count": 2,
     "metadata": {},
     "output_type": "execute_result"
    }
   ],
   "source": [
    "import numpy as np\n",
    "np.zeros((5,5),np.uint8)"
   ]
  },
  {
   "cell_type": "markdown",
   "id": "8d7c2be8",
   "metadata": {},
   "source": [
    "# Create a numpy array filled with all ones."
   ]
  },
  {
   "cell_type": "code",
   "execution_count": 3,
   "id": "61ba0f41",
   "metadata": {},
   "outputs": [
    {
     "data": {
      "text/plain": [
       "array([[1, 1, 1, 1, 1],\n",
       "       [1, 1, 1, 1, 1],\n",
       "       [1, 1, 1, 1, 1],\n",
       "       [1, 1, 1, 1, 1],\n",
       "       [1, 1, 1, 1, 1]], dtype=uint8)"
      ]
     },
     "execution_count": 3,
     "metadata": {},
     "output_type": "execute_result"
    }
   ],
   "source": [
    "np.ones((5,5),np.uint8)"
   ]
  },
  {
   "cell_type": "markdown",
   "id": "012f9e76",
   "metadata": {},
   "source": [
    "# Cheack whether a numpy array contains a specified row."
   ]
  },
  {
   "cell_type": "code",
   "execution_count": 14,
   "id": "c253e55d",
   "metadata": {},
   "outputs": [
    {
     "data": {
      "text/plain": [
       "[[5, 6], [7, 8]]"
      ]
     },
     "execution_count": 14,
     "metadata": {},
     "output_type": "execute_result"
    }
   ],
   "source": [
    "a=np.array([[5,6],[7,8]])\n",
    "a.tolist()\n"
   ]
  },
  {
   "cell_type": "code",
   "execution_count": 15,
   "id": "ebd07b17",
   "metadata": {},
   "outputs": [
    {
     "data": {
      "text/plain": [
       "True"
      ]
     },
     "execution_count": 15,
     "metadata": {},
     "output_type": "execute_result"
    }
   ],
   "source": [
    "[5,6] in a.tolist()"
   ]
  },
  {
   "cell_type": "markdown",
   "id": "f5ca022c",
   "metadata": {},
   "source": [
    "# How to remove rows in numpy.Arrays that contain non numeric values"
   ]
  },
  {
   "cell_type": "code",
   "execution_count": 80,
   "id": "c981643d",
   "metadata": {},
   "outputs": [
    {
     "name": "stdout",
     "output_type": "stream",
     "text": [
      "[[10.5  22.5   3.8 ]\n",
      " [23.45 50.   78.7 ]\n",
      " [41.     nan   nan]]\n",
      "[10.5  22.5   3.8  23.45 50.   78.7  41.  ]\n"
     ]
    }
   ],
   "source": [
    "a = np.array([[10.5, 22.5, 3.8],[23.45, 50, 78.7],[41, np.nan, np.nan]])\n",
    "print(a)\n",
    "print(a[~np.isnan(a).any(axis=1)])"
   ]
  },
  {
   "cell_type": "markdown",
   "id": "a5767b59",
   "metadata": {},
   "source": [
    "# Remove single dimensional entries from the shape of an array"
   ]
  },
  {
   "cell_type": "code",
   "execution_count": 42,
   "id": "fd0777ce",
   "metadata": {},
   "outputs": [
    {
     "name": "stdout",
     "output_type": "stream",
     "text": [
      "(1, 4)\n",
      "[[5 6 7 8]]\n",
      "[5 6 7 8]\n",
      "(4,)\n"
     ]
    }
   ],
   "source": [
    "a=np.array([[5,6,7,8]])\n",
    "print(a.shape)\n",
    "print(a)\n",
    "b=np.squeeze(a)\n",
    "print(b)\n",
    "print(b.shape)"
   ]
  },
  {
   "cell_type": "markdown",
   "id": "52147d95",
   "metadata": {},
   "source": [
    "# Find the number of occurences of a sequence in a numpy array."
   ]
  },
  {
   "cell_type": "code",
   "execution_count": 84,
   "id": "027bdf6c",
   "metadata": {},
   "outputs": [
    {
     "name": "stdout",
     "output_type": "stream",
     "text": [
      "4\n"
     ]
    }
   ],
   "source": [
    "a = np.array([[2, 8, 9, 4],[9, 4, 9, 4],[4, 5, 9, 7],[2, 9, 4, 3]])\n",
    "output = repr(a).count(\"9, 4\")\n",
    "print(output)\n"
   ]
  },
  {
   "cell_type": "markdown",
   "id": "b0f5e00d",
   "metadata": {},
   "source": [
    "# Find the most frequent value in numpy array."
   ]
  },
  {
   "cell_type": "code",
   "execution_count": 53,
   "id": "6936528b",
   "metadata": {},
   "outputs": [
    {
     "name": "stdout",
     "output_type": "stream",
     "text": [
      "Original array:\n",
      "[6 2 5 6 0 6 5 6 2 1 5 6 1 3 6 6 3 3 9 7 4 6 1 8 7 4 1 7 6 5 8 7 3 6 0 7 7\n",
      " 3 5 7]\n",
      "Most frequent value in the above array:\n",
      "[ 2  4  2  5  2  5 10  7  2  1]\n",
      "6\n"
     ]
    }
   ],
   "source": [
    "x = np.random.randint(0, 10, 40)\n",
    "print(\"Original array:\")\n",
    "print(x)\n",
    "print(\"Most frequent value in the above array:\")\n",
    "print(np.bincount(x))\n",
    "print(np.bincount(x).argmax())"
   ]
  },
  {
   "cell_type": "markdown",
   "id": "a5f931fe",
   "metadata": {},
   "source": [
    "# Combining a one and two dimensional numpy array"
   ]
  },
  {
   "cell_type": "code",
   "execution_count": 57,
   "id": "52223069",
   "metadata": {},
   "outputs": [
    {
     "name": "stdout",
     "output_type": "stream",
     "text": [
      "One dimensional array:\n",
      "[0 1 2 3 4]\n",
      "\n",
      "Two dimensional array:\n",
      "[[0 1 2 3 4]\n",
      " [5 6 7 8 9]]\n",
      "0:0\n",
      "1:1\n",
      "2:2\n",
      "3:3\n",
      "4:4\n",
      "0:5\n",
      "1:6\n",
      "2:7\n",
      "3:8\n",
      "4:9\n"
     ]
    }
   ],
   "source": [
    "num_1d = np.arange(5)\n",
    "print(\"One dimensional array:\")\n",
    "print(num_1d)\n",
    "\n",
    "num_2d = np.arange(10).reshape(2,5)\n",
    "print(\"\\nTwo dimensional array:\")\n",
    "print(num_2d)\n",
    "\n",
    "# Combine 1-D and 2-D arrays and display\n",
    "# their elements using numpy.nditer()\n",
    "for a, b in np.nditer([num_1d, num_2d]):\n",
    "\tprint('%d:%d'%(a, b),)\n"
   ]
  },
  {
   "cell_type": "markdown",
   "id": "dc8510f2",
   "metadata": {},
   "source": [
    "# How to build an array of all combinations of two numpy arrays"
   ]
  },
  {
   "cell_type": "code",
   "execution_count": 59,
   "id": "63d27075",
   "metadata": {},
   "outputs": [
    {
     "data": {
      "text/plain": [
       "array([[1, 4, 6],\n",
       "       [1, 4, 7],\n",
       "       [2, 4, 6],\n",
       "       [2, 4, 7],\n",
       "       [3, 4, 6],\n",
       "       [3, 4, 7],\n",
       "       [1, 5, 6],\n",
       "       [1, 5, 7],\n",
       "       [2, 5, 6],\n",
       "       [2, 5, 7],\n",
       "       [3, 5, 6],\n",
       "       [3, 5, 7]])"
      ]
     },
     "execution_count": 59,
     "metadata": {},
     "output_type": "execute_result"
    }
   ],
   "source": [
    "np.stack(np.meshgrid([1, 2, 3], [4, 5], [6, 7]), -1).reshape(-1, 3)\n"
   ]
  },
  {
   "cell_type": "code",
   "execution_count": 65,
   "id": "9d71524f",
   "metadata": {},
   "outputs": [
    {
     "name": "stdout",
     "output_type": "stream",
     "text": [
      "Array-1\n",
      "[1 2]\n",
      "\n",
      "Array-2\n",
      "[4 6]\n",
      "\n",
      "Combine array:\n",
      "[[1 2]\n",
      " [1 2]\n",
      " [4 4]\n",
      " [6 6]]\n"
     ]
    }
   ],
   "source": [
    "# importing Numpy package\n",
    "import numpy as np\n",
    "\n",
    "# creating 2 numpy arrays\n",
    "array_1 = np.array([1, 2])\n",
    "array_2 = np.array([4, 6])\n",
    "\n",
    "print(\"Array-1\")\n",
    "print(array_1)\n",
    "\n",
    "print(\"\\nArray-2\")\n",
    "print(array_2)\n",
    "\n",
    "# combination of elements of array_1 and array_2\n",
    "# using numpy.meshgrid().T.reshape()\n",
    "comb_array = np.array(np.meshgrid(array_1, array_2)).reshape(-1, 2)\n",
    "\n",
    "print(\"\\nCombine array:\")\n",
    "print(comb_array)\n"
   ]
  },
  {
   "cell_type": "markdown",
   "id": "3e76dee4",
   "metadata": {},
   "source": [
    "# How to add border around a numpy array."
   ]
  },
  {
   "cell_type": "code",
   "execution_count": 70,
   "id": "2bfd149e",
   "metadata": {},
   "outputs": [
    {
     "name": "stdout",
     "output_type": "stream",
     "text": [
      "Original array\n",
      "[[1. 1.]\n",
      " [1. 1.]]\n",
      "\n",
      "0 on the border and 1 inside the array\n",
      "[[0. 0. 0. 0.]\n",
      " [0. 1. 1. 0.]\n",
      " [0. 1. 1. 0.]\n",
      " [0. 0. 0. 0.]]\n"
     ]
    }
   ],
   "source": [
    "array = np.ones((2, 2))\n",
    "\n",
    "print(\"Original array\")\n",
    "print(array)\n",
    "\n",
    "print(\"\\n0 on the border and 1 inside the array\")\n",
    "\n",
    "# constructing border of 0 around 2D identity matrix\n",
    "# using np.pad()\n",
    "array = np.pad(array, pad_width=1, mode='constant',constant_values=0)\n",
    "\n",
    "print(array)\n"
   ]
  },
  {
   "cell_type": "markdown",
   "id": "c9ad53b6",
   "metadata": {},
   "source": [
    "# How to compare two numpy arrays."
   ]
  },
  {
   "cell_type": "code",
   "execution_count": 74,
   "id": "aa76ac74",
   "metadata": {},
   "outputs": [
    {
     "name": "stdout",
     "output_type": "stream",
     "text": [
      "[[ True  True]\n",
      " [ True  True]]\n",
      "True\n"
     ]
    }
   ],
   "source": [
    "import numpy as np\n",
    "\n",
    "an_array = np.array([[1, 2], [3, 4]])\n",
    "another_array = np.array([[1, 2], [3, 4]])\n",
    "\n",
    "comparison = an_array == another_array\n",
    "equal_arrays = comparison.all()\n",
    "print(comparison)\n",
    "print(equal_arrays)\n"
   ]
  },
  {
   "cell_type": "markdown",
   "id": "cfa9f93b",
   "metadata": {},
   "source": [
    "# How to check whether specified values are present in numpy array?"
   ]
  },
  {
   "cell_type": "code",
   "execution_count": 75,
   "id": "ee8bdd88",
   "metadata": {},
   "outputs": [
    {
     "name": "stdout",
     "output_type": "stream",
     "text": [
      "Given array:\n",
      "[[2 3 0]\n",
      " [4 1 6]]\n",
      "True\n",
      "True\n",
      "True\n",
      "False\n",
      "False\n"
     ]
    }
   ],
   "source": [
    "n_array = np.array([[2, 3, 0],[4, 1, 6]])\n",
    "\n",
    "print(\"Given array:\")\n",
    "print(n_array)\n",
    "\n",
    "# Checking whether specific values\n",
    "# are present in \"n_array\" or not\n",
    "print(2 in n_array)\n",
    "print(0 in n_array)\n",
    "print(6 in n_array)\n",
    "print(50 in n_array)\n",
    "print(10 in n_array)\n"
   ]
  },
  {
   "cell_type": "markdown",
   "id": "3cdd0f45",
   "metadata": {},
   "source": [
    "# How to get all 2d diagonals of a 3d numpy array? "
   ]
  },
  {
   "cell_type": "code",
   "execution_count": 85,
   "id": "561fd216",
   "metadata": {},
   "outputs": [
    {
     "name": "stdout",
     "output_type": "stream",
     "text": [
      "Original 3d array:\n",
      " [[[ 0  1  2  3]\n",
      "  [ 4  5  6  7]\n",
      "  [ 8  9 10 11]\n",
      "  [12 13 14 15]]\n",
      "\n",
      " [[16 17 18 19]\n",
      "  [20 21 22 23]\n",
      "  [24 25 26 27]\n",
      "  [28 29 30 31]]\n",
      "\n",
      " [[32 33 34 35]\n",
      "  [36 37 38 39]\n",
      "  [40 41 42 43]\n",
      "  [44 45 46 47]]]\n",
      "2d diagonal array:\n",
      " [[ 0  5 10 15]\n",
      " [16 21 26 31]\n",
      " [32 37 42 47]]\n"
     ]
    }
   ],
   "source": [
    "# Import the numpy package\n",
    "import numpy as np\n",
    "\n",
    "# Create 3D-numpy array\n",
    "# of 4 rows and 4 columns\n",
    "arr = np.arange(3 * 4 * 4).reshape(3, 4, 4)\n",
    "\n",
    "print(\"Original 3d array:\\n\",arr)\n",
    "\n",
    "# Create 2D diagonal array\n",
    "diag_arr = np.diagonal(arr,axis1 = 1,axis2 = 2) #axis1: represents first axis to be taken for 2-d subarray \n",
    "#axis2: represents second axis to be taken for 2-d subarray \n",
    "\n",
    "\n",
    "print(\"2d diagonal array:\\n\",diag_arr)\n"
   ]
  },
  {
   "cell_type": "markdown",
   "id": "12ab976b",
   "metadata": {},
   "source": [
    "# Flatten a 2d numpy array into 1d array"
   ]
  },
  {
   "cell_type": "code",
   "execution_count": 77,
   "id": "ee8d80c9",
   "metadata": {},
   "outputs": [
    {
     "name": "stdout",
     "output_type": "stream",
     "text": [
      "1D Numpy Array:\n",
      "[7 4 2 5 3 6 2 9 5]\n"
     ]
    }
   ],
   "source": [
    "import numpy as np\n",
    "# Create a 2D numpy array from list of lists\n",
    "arr = np.array([[7, 4, 2],\n",
    "                [5, 3, 6],\n",
    "                [2, 9, 5]])\n",
    "# get a flatten 1D copy of 2D Numpy array\n",
    "flat_array = arr.flatten()\n",
    "print('1D Numpy Array:')\n",
    "print(flat_array)"
   ]
  },
  {
   "cell_type": "markdown",
   "id": "ec3ce627",
   "metadata": {},
   "source": [
    "# Change data type of given numpy."
   ]
  },
  {
   "cell_type": "code",
   "execution_count": 78,
   "id": "cec236f9",
   "metadata": {},
   "outputs": [
    {
     "name": "stdout",
     "output_type": "stream",
     "text": [
      "[1 2 3 4 5]\n"
     ]
    }
   ],
   "source": [
    "array = np.array([1.5, 2.6, 3.7, 4.8, 5.9])\n",
    "array = array.astype(np.int32)\n",
    "print(array)"
   ]
  },
  {
   "cell_type": "markdown",
   "id": "e23424bc",
   "metadata": {},
   "source": [
    "# Reverse a numpy array"
   ]
  },
  {
   "cell_type": "code",
   "execution_count": 79,
   "id": "a1c1a124",
   "metadata": {},
   "outputs": [
    {
     "name": "stdout",
     "output_type": "stream",
     "text": [
      "final array [5 4 6 3 2 1]\n"
     ]
    }
   ],
   "source": [
    "a = np.array([1, 2, 3, 6, 4, 5])\n",
    "\n",
    "# using shortcut method to reverse\n",
    "res = np.flip(a)\n",
    "\n",
    "# printing result\n",
    "print(\"final array\", str(res))\n"
   ]
  }
 ],
 "metadata": {
  "kernelspec": {
   "display_name": "Python 3 (ipykernel)",
   "language": "python",
   "name": "python3"
  },
  "language_info": {
   "codemirror_mode": {
    "name": "ipython",
    "version": 3
   },
   "file_extension": ".py",
   "mimetype": "text/x-python",
   "name": "python",
   "nbconvert_exporter": "python",
   "pygments_lexer": "ipython3",
   "version": "3.9.7"
  }
 },
 "nbformat": 4,
 "nbformat_minor": 5
}
